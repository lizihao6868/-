{
  "nbformat": 4,
  "nbformat_minor": 0,
  "metadata": {
    "colab": {
      "name": "meanshift.ipynb",
      "provenance": [],
      "include_colab_link": true
    },
    "kernelspec": {
      "name": "python3",
      "display_name": "Python 3"
    }
  },
  "cells": [
    {
      "cell_type": "markdown",
      "metadata": {
        "id": "view-in-github",
        "colab_type": "text"
      },
      "source": [
        "<a href=\"https://colab.research.google.com/github/lizihao6868/-/blob/master/meanshift.ipynb\" target=\"_parent\"><img src=\"https://colab.research.google.com/assets/colab-badge.svg\" alt=\"Open In Colab\"/></a>"
      ]
    },
    {
      "cell_type": "code",
      "metadata": {
        "id": "VexNK2mW5qzz",
        "colab_type": "code",
        "colab": {
          "base_uri": "https://localhost:8080/",
          "height": 424
        },
        "outputId": "0afc9224-bbe7-41ea-d9fe-92c0014d2381"
      },
      "source": [
        "import numpy as np\n",
        "import matplotlib.pyplot as plt\n",
        "\n",
        "# Input data set\n",
        "X = np.array([\n",
        "    [-4, -3.5], [-3.5, -5], [-2.7, -4.5],\n",
        "    [-2, -4.5], [-2.9, -2.9], [-0.4, -4.5],\n",
        "    [-1.4, -2.5], [-1.6, -2], [-1.5, -1.3],\n",
        "    [-0.5, -2.1], [-0.6, -1], [0, -1.6],\n",
        "    [-2.8, -1], [-2.4, -0.6], [-3.5, 0],\n",
        "    [-0.2, 4], [0.9, 1.8], [1, 2.2],\n",
        "    [1.1, 2.8], [1.1, 3.4], [1, 4.5],\n",
        "    [1.8, 0.3], [2.2, 1.3], [2.9, 0],\n",
        "    [2.7, 1.2], [3, 3], [3.4, 2.8],\n",
        "    [3, 5], [5.4, 1.2], [6.3, 2]\n",
        "])\n",
        "\n",
        "\n",
        "def mean_shift(data, radius=2.0):\n",
        "    clusters = []\n",
        "    for i in range(len(data)):\n",
        "        cluster_centroid = data[i]\n",
        "        cluster_frequency = np.zeros(len(data))\n",
        "\n",
        "        # Search points in circle\n",
        "        while True:\n",
        "            temp_data = []\n",
        "            for j in range(len(data)):\n",
        "                v = data[j]\n",
        "                # Handle points in the circles\n",
        "                if np.linalg.norm(v - cluster_centroid) <= radius:\n",
        "                    temp_data.append(v)\n",
        "                    cluster_frequency[i] += 1\n",
        "\n",
        "            # Update centroid\n",
        "            old_centroid = cluster_centroid\n",
        "            new_centroid = np.average(temp_data, axis=0)\n",
        "            cluster_centroid = new_centroid\n",
        "            # Find the mode\n",
        "            if np.array_equal(new_centroid, old_centroid):\n",
        "                break\n",
        "\n",
        "        # Combined 'same' clusters\n",
        "        has_same_cluster = False\n",
        "       \n",
        "        \n",
        "            \n",
        "        for cluster in clusters:\n",
        "            if np.linalg.norm(cluster['centroid'] - cluster_centroid) <= radius:\n",
        "                has_same_cluster = True\n",
        "                cluster['frequency'] = cluster['frequency'] + cluster_frequency\n",
        "                break\n",
        "        if not has_same_cluster:\n",
        "            clusters.append({\n",
        "                'centroid': cluster_centroid,\n",
        "                'frequency': cluster_frequency\n",
        "            })\n",
        "        \n",
        "\n",
        "    print('clusters (', len(clusters), '): ', clusters)\n",
        "    clustering(data, clusters)\n",
        "    show_clusters(clusters, radius)\n",
        "\n",
        "\n",
        "# Clustering data using frequency\n",
        "def clustering(data, clusters):\n",
        "    t = []\n",
        "    for cluster in clusters:\n",
        "        cluster['data'] = []\n",
        "        t.append(cluster['frequency'])\n",
        "    t = np.array(t)\n",
        "    # Clustering\n",
        "    for i in range(len(data)):\n",
        "        column_frequency = t[:, i]\n",
        "        cluster_index = np.where(column_frequency == np.max(column_frequency))[0][0]\n",
        "        clusters[cluster_index]['data'].append(data[i])\n",
        "\n",
        "\n",
        "# Plot clusters\n",
        "def show_clusters(clusters, radius):\n",
        "    colors = 10 * ['r', 'g', 'b', 'k', 'y']\n",
        "    plt.figure(figsize=(5, 5))\n",
        "    plt.xlim((-8, 8))\n",
        "    plt.ylim((-8, 8))\n",
        "    plt.scatter(X[:, 0], X[:, 1], s=20)\n",
        "    theta = np.linspace(0, 2 * np.pi, 800)\n",
        "    for i in range(len(clusters)):\n",
        "        cluster = clusters[i]\n",
        "        data = np.array(cluster['data'])\n",
        "        plt.scatter(data[:, 0], data[:, 1], color=colors[i], s=20)\n",
        "        centroid = cluster['centroid']\n",
        "        plt.scatter(centroid[0], centroid[1], color=colors[i], marker='x', s=30)\n",
        "        x, y = np.cos(theta) * radius + centroid[0], np.sin(theta) * radius + centroid[1]\n",
        "        plt.plot(x, y, linewidth=1, color=colors[i])\n",
        "    plt.show()\n",
        "\n",
        "\n",
        "mean_shift(X, 2.5)"
      ],
      "execution_count": 5,
      "outputs": [
        {
          "output_type": "stream",
          "text": [
            "clusters ( 3 ):  [{'centroid': array([-1.75384615, -2.46153846]), 'frequency': array([87., 87., 83., 83., 56., 38., 24., 18., 20., 26., 26., 24., 28.,\n",
            "       29., 33.,  0.,  0.,  0.,  0.,  0.,  0.,  0.,  0.,  0.,  0.,  0.,\n",
            "        0.,  0.,  0.,  0.])}, {'centroid': array([1.63636364, 2.48181818]), 'frequency': array([ 0.,  0.,  0.,  0.,  0.,  0.,  0.,  0.,  0.,  0.,  0.,  0.,  0.,\n",
            "        0.,  0., 46., 31., 22., 32., 32., 39., 26., 20., 33., 29., 32.,\n",
            "       39., 36.,  0.,  0.])}, {'centroid': array([5.85, 1.6 ]), 'frequency': array([0., 0., 0., 0., 0., 0., 0., 0., 0., 0., 0., 0., 0., 0., 0., 0., 0.,\n",
            "       0., 0., 0., 0., 0., 0., 0., 0., 0., 0., 0., 4., 4.])}]\n"
          ],
          "name": "stdout"
        },
        {
          "output_type": "display_data",
          "data": {
            "image/png": "[encoded data removed]",
            "text/plain": [
              "<Figure size 360x360 with 1 Axes>"
            ]
          },
          "metadata": {
            "tags": []
          }
        }
      ]
    }
  ]
}